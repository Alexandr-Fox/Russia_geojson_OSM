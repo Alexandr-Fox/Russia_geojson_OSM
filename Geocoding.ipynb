{
 "cells": [
  {
   "cell_type": "code",
   "execution_count": 1,
   "metadata": {},
   "outputs": [],
   "source": [
    "import requests as r\n",
    "from bs4 import BeautifulSoup\n",
    "import geopandas as gpd\n",
    "from shapely.geometry import Polygon,MultiPolygon\n",
    "import re"
   ]
  },
  {
   "cell_type": "code",
   "execution_count": 2,
   "metadata": {},
   "outputs": [],
   "source": [
    "def get_regs_names_hrefs(href):\n",
    "    soup=BeautifulSoup(r.get(href).text,'lxml')\n",
    "    distrs=[re.split(r'\\s+ОКТМО',i.text)[0] for i in soup.find_all('li',attrs={'class':'col-md-6 col-12'})]\n",
    "    refs=[i for i in re.findall(r'href=\"(.+?)\"',str(soup.find_all('li',attrs={'class':'col-md-6 col-12'})))]\n",
    "    return (distrs,refs)"
   ]
  },
  {
   "cell_type": "code",
   "execution_count": 3,
   "metadata": {},
   "outputs": [],
   "source": [
    "def get_subregs(reg_tuple):\n",
    "    total=[]\n",
    "    distrs,refs=reg_tuple\n",
    "    for index,distr in enumerate(distrs):\n",
    "        soup=BeautifulSoup(r.get('https://oktmorus.ru'+refs[index]).text,'lxml')\n",
    "        subdistrs=[ re.split(r'\\s+ОКТМО',i.text)[0] for i in soup.find_all('ul')[1].find_all('li')]\n",
    "        if subdistrs==[]:\n",
    "            pass\n",
    "        else:\n",
    "            total.append((distr,subdistrs))\n",
    "    return total"
   ]
  },
  {
   "cell_type": "code",
   "execution_count": 4,
   "metadata": {},
   "outputs": [],
   "source": [
    "def geocode(tup):\n",
    "    mun=r.get('http://nominatim.openstreetmap.org/search?',params={'state':tup[0],'county':tup[1],'format':'json','polygon_geojson':'1'})\n",
    "    if mun.json()[0]['geojson']['type']=='MultiPolygon':\n",
    "        pols=[]\n",
    "        for obj in mun.json()[0]['geojson']['coordinates']:\n",
    "            for po in obj:\n",
    "                pols.append(Polygon(po))\n",
    "        p=pols[0]\n",
    "        pols1=pols[1:]\n",
    "        new_p=[]\n",
    "        for i in pols1:\n",
    "            if p.intersects(i):\n",
    "                p=p.symmetric_difference(i)\n",
    "            else:\n",
    "                k=0\n",
    "                for ind,n in enumerate(new_p):\n",
    "                    if n.intersects(i):\n",
    "                        new_p[ind]=new_p[ind].symmetric_difference(i)\n",
    "                        k=1\n",
    "                        break\n",
    "                        \n",
    "                if k==0:\n",
    "                    new_p.append(i)\n",
    "        new_p.insert(0,p)\n",
    "        try:\n",
    "            return MultiPolygon(new_p)\n",
    "        except:\n",
    "            return new_p[0]\n",
    "    else:\n",
    "        geo_data=mun.json()[0]['geojson']['coordinates']\n",
    "        mulp=[]\n",
    "        if len(geo_data)==1:\n",
    "            return Polygon(geo_data[0])\n",
    "        else:\n",
    "            for data in geo_data:\n",
    "                mulp.append(Polygon(data))\n",
    "            or_data=mulp[0]\n",
    "            mulp=mulp[1:]\n",
    "            for p in mulp:\n",
    "                or_data=or_data.symmetric_difference(p)\n",
    "            return or_data"
   ]
  },
  {
   "cell_type": "code",
   "execution_count": 5,
   "metadata": {},
   "outputs": [],
   "source": [
    "def geodataframes(total):\n",
    "    gdf_list=[]\n",
    "    for tup in total:\n",
    "        geom=[]\n",
    "        distr,subd=tup\n",
    "        print(f'Обрабатываю {distr}')\n",
    "        for sd in subd:\n",
    "            sd=sd.rstrip().lstrip().replace('город ',' ').replace('ЗАТО ',' ').replace('муниципальный ',' ')\n",
    "            att=False\n",
    "            while not att:\n",
    "                try:\n",
    "                    geom.append(geocode((distr,sd)))\n",
    "                    att=True\n",
    "                except:\n",
    "                    print(f'Ошибка в {distr} и пункте {sd}.Перенаберите')\n",
    "                    distr=input()\n",
    "                    sd=input()\n",
    "                    if '---' in distr:\n",
    "                        pass\n",
    "        gdf_list.append((distr,gpd.GeoDataFrame(subd,crs={'init': 'epsg:4326'},geometry=geom)))\n",
    "    return gdf_list\n",
    "                \n",
    "    "
   ]
  },
  {
   "cell_type": "code",
   "execution_count": 6,
   "metadata": {},
   "outputs": [],
   "source": [
    "rd=get_subregs(get_regs_names_hrefs('https://oktmorus.ru/privolzhskij-federalnyij-okrug/'))"
   ]
  },
  {
   "cell_type": "code",
   "execution_count": null,
   "metadata": {},
   "outputs": [
    {
     "name": "stdout",
     "output_type": "stream",
     "text": [
      "Обрабатываю Нижегородская область\n",
      "Ошибка в Нижегородская область и пункте Кулебакский  район.Перенаберите\n",
      "Нижегородская область\n",
      "Кулебаки\n",
      "Ошибка в Нижегородская область и пункте Семеновский.Перенаберите\n",
      "Нижегородская область\n",
      "Семёновский\n"
     ]
    },
    {
     "name": "stderr",
     "output_type": "stream",
     "text": [
      "C:\\Users\\timna\\anaconda3\\lib\\site-packages\\pyproj\\crs\\crs.py:53: FutureWarning: '+init=<authority>:<code>' syntax is deprecated. '<authority>:<code>' is the preferred initialization method. When making the change, be mindful of axis order changes: https://pyproj4.github.io/pyproj/stable/gotchas.html#axis-order-changes-in-proj-6\n",
      "  return _prepare_from_string(\" \".join(pjargs))\n"
     ]
    },
    {
     "name": "stdout",
     "output_type": "stream",
     "text": [
      "Обрабатываю Кировская область\n",
      "Ошибка в Кировская область и пункте Богородский  район.Перенаберите\n",
      "Кировская область\n",
      "Богородский\n",
      "Ошибка в Кировская область и пункте Куменский  район.Перенаберите\n",
      "Кировская область\n",
      "Куменский\n",
      "Ошибка в Кировская область и пункте Куменский.Перенаберите\n",
      "Кировская область\n",
      "Кумёнский район\n",
      "Ошибка в Кировская область и пункте Санчурский  район.Перенаберите\n",
      "Кировская область\n",
      "Санчурский\n",
      "Ошибка в Кировская область и пункте Фаленский  район.Перенаберите\n"
     ]
    }
   ],
   "source": [
    "gdf_list=geodataframes(rd)"
   ]
  },
  {
   "cell_type": "code",
   "execution_count": null,
   "metadata": {},
   "outputs": [],
   "source": [
    "def save(gdf_list,folder):\n",
    "    for gdf in gdf_list:\n",
    "        gdf[1].columns=['район','geometry']\n",
    "        gdf[1].to_file(folder+f'/{gdf[0]}.geojson',encoding='utf-8',driver='GeoJSON')"
   ]
  },
  {
   "cell_type": "code",
   "execution_count": null,
   "metadata": {},
   "outputs": [],
   "source": []
  }
 ],
 "metadata": {
  "kernelspec": {
   "display_name": "Python 3",
   "language": "python",
   "name": "python3"
  },
  "language_info": {
   "codemirror_mode": {
    "name": "ipython",
    "version": 3
   },
   "file_extension": ".py",
   "mimetype": "text/x-python",
   "name": "python",
   "nbconvert_exporter": "python",
   "pygments_lexer": "ipython3",
   "version": "3.8.3"
  }
 },
 "nbformat": 4,
 "nbformat_minor": 4
}
